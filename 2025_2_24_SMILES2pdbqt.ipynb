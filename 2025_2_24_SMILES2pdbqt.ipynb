{
 "cells": [
  {
   "cell_type": "code",
   "execution_count": 1,
   "id": "6d3b9700-d4c0-4b9c-9660-93470fea94ee",
   "metadata": {},
   "outputs": [],
   "source": [
    "import pandas as pd\n",
    "from rdkit import Chem\n",
    "from rdkit.Chem import AllChem\n",
    "import subprocess\n",
    "import os"
   ]
  },
  {
   "cell_type": "code",
   "execution_count": 2,
   "id": "2f41859c-d767-4e27-b385-4b9ad951aee3",
   "metadata": {},
   "outputs": [],
   "source": [
    "os.chdir('C:\\\\Users\\\\lumin\\\\Downloads')"
   ]
  },
  {
   "cell_type": "code",
   "execution_count": 13,
   "id": "7f6544d8-5816-461c-aa88-fdb172be9ae8",
   "metadata": {},
   "outputs": [
    {
     "name": "stdout",
     "output_type": "stream",
     "text": [
      "Collecting openpyxl\n",
      "  Downloading openpyxl-3.1.5-py2.py3-none-any.whl.metadata (2.5 kB)\n",
      "Collecting et-xmlfile (from openpyxl)\n",
      "  Downloading et_xmlfile-2.0.0-py3-none-any.whl.metadata (2.7 kB)\n",
      "Downloading openpyxl-3.1.5-py2.py3-none-any.whl (250 kB)\n",
      "   ---------------------------------------- 0.0/250.9 kB ? eta -:--:--\n",
      "   - -------------------------------------- 10.2/250.9 kB ? eta -:--:--\n",
      "   ------------------- -------------------- 122.9/250.9 kB 1.8 MB/s eta 0:00:01\n",
      "   ---------------------------------------- 250.9/250.9 kB 2.6 MB/s eta 0:00:00\n",
      "Downloading et_xmlfile-2.0.0-py3-none-any.whl (18 kB)\n",
      "Installing collected packages: et-xmlfile, openpyxl\n",
      "Successfully installed et-xmlfile-2.0.0 openpyxl-3.1.5\n"
     ]
    },
    {
     "name": "stderr",
     "output_type": "stream",
     "text": [
      "\n",
      "[notice] A new release of pip is available: 24.0 -> 25.0.1\n",
      "[notice] To update, run: C:\\Users\\lumin\\AppData\\Local\\Programs\\Python\\Python312\\python.exe -m pip install --upgrade pip\n"
     ]
    }
   ],
   "source": [
    "#import sys\n",
    "#!{sys.executable} -m pip install openpyxl\n"
   ]
  },
  {
   "cell_type": "code",
   "execution_count": 3,
   "id": "e46a4a36-1209-4c91-90d8-ec0177055503",
   "metadata": {},
   "outputs": [],
   "source": [
    "# 读取Excel文件\n",
    "df = pd.read_excel('2025_4_20_SMILIES2.xlsx')"
   ]
  },
  {
   "cell_type": "code",
   "execution_count": 4,
   "id": "6a821699-9108-43bf-a976-f3cec9ab3049",
   "metadata": {},
   "outputs": [],
   "source": [
    "# 创建输出目录\n",
    "output_dir = 'Downloads'\n",
    "os.makedirs(output_dir, exist_ok=True)\n"
   ]
  },
  {
   "cell_type": "code",
   "execution_count": 5,
   "id": "02d019ab-8ccd-4a81-afaa-c7f85d5aab85",
   "metadata": {
    "scrolled": true
   },
   "outputs": [
    {
     "name": "stdout",
     "output_type": "stream",
     "text": [
      "✅ 所有SMILES已成功转换为PDBQT！\n"
     ]
    }
   ],
   "source": [
    "\n",
    "for idx, row in df.iterrows():\n",
    "    chem_id = row['ChemID']\n",
    "    smiles = row['SMILES']\n",
    "    \n",
    "    # SMILES 转为分子对象\n",
    "    mol = Chem.MolFromSmiles(smiles)\n",
    "    if mol is None:\n",
    "        print(f\"SMILES {smiles} 转换失败！跳过。\")\n",
    "        continue\n",
    "\n",
    "    # 生成3D构象\n",
    "    mol = Chem.AddHs(mol)\n",
    "    AllChem.EmbedMolecule(mol, AllChem.ETKDG())\n",
    "    AllChem.UFFOptimizeMolecule(mol)\n",
    "\n",
    "    # 保存为临时PDB文件\n",
    "    temp_pdb = f'{chem_id}.pdb'\n",
    "    Chem.MolToPDBFile(mol, temp_pdb)\n",
    "\n",
    "    # 使用openbabel将PDB转换为PDBQT\n",
    "    output_pdbqt = os.path.join(output_dir, f'{chem_id}.pdbqt')\n",
    "    subprocess.run(['obabel', temp_pdb, '-O', output_pdbqt, '--partialcharge', 'gasteiger'])\n",
    "\n",
    "    # 删除临时PDB文件\n",
    "    os.remove(temp_pdb)\n",
    "\n",
    "print(\"✅ 所有SMILES已成功转换为PDBQT！\")\n"
   ]
  },
  {
   "cell_type": "code",
   "execution_count": 7,
   "id": "025fef64-4b23-4a4b-9bc7-49f1747015fe",
   "metadata": {},
   "outputs": [
    {
     "data": {
      "text/plain": [
       "CompletedProcess(args=['obabel', 'SCDznmove.pdbdb', '-o', 'SCDznmove.pdb'], returncode=1)"
      ]
     },
     "execution_count": 7,
     "metadata": {},
     "output_type": "execute_result"
    }
   ],
   "source": [
    "import subprocess\n",
    "subprocess.run([\"obabel\",\"SCDznmove.pdbdb\",\"-o\",\"SCDznmove.pdb\"])"
   ]
  },
  {
   "cell_type": "code",
   "execution_count": 9,
   "id": "b348fd49-89fa-4f95-bb14-5c465cb5082d",
   "metadata": {},
   "outputs": [
    {
     "data": {
      "text/plain": [
       "CompletedProcess(args=['obabel', 'MF438.pdbdb', '-o', 'MF438.pdb'], returncode=1)"
      ]
     },
     "execution_count": 9,
     "metadata": {},
     "output_type": "execute_result"
    }
   ],
   "source": [
    "subprocess.run([\"obabel\",\"MF438.pdbdb\",\"-o\",\"MF438.pdb\"])"
   ]
  },
  {
   "cell_type": "code",
   "execution_count": null,
   "id": "9120e929-45eb-4868-8e15-9b9eb782493f",
   "metadata": {},
   "outputs": [],
   "source": []
  }
 ],
 "metadata": {
  "kernelspec": {
   "display_name": "Python 3 (ipykernel)",
   "language": "python",
   "name": "python3"
  },
  "language_info": {
   "codemirror_mode": {
    "name": "ipython",
    "version": 3
   },
   "file_extension": ".py",
   "mimetype": "text/x-python",
   "name": "python",
   "nbconvert_exporter": "python",
   "pygments_lexer": "ipython3",
   "version": "3.12.4"
  }
 },
 "nbformat": 4,
 "nbformat_minor": 5
}
